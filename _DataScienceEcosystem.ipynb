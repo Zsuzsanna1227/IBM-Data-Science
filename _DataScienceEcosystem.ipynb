{
 "cells": [
  {
   "cell_type": "markdown",
   "id": "8f8ac035-0b3e-4fb1-b158-324760fb3ad1",
   "metadata": {},
   "source": [
    "# Data Science Tools and Ecosystem"
   ]
  },
  {
   "cell_type": "markdown",
   "id": "0e8b336a-db96-4e37-8b7d-3dfe993ad769",
   "metadata": {},
   "source": [
    "In this notebook, Data Science Tools and Ecosystem are summarized."
   ]
  },
  {
   "cell_type": "markdown",
   "id": "da519ba5-82a2-4c4d-b3b8-62f8824dd43a",
   "metadata": {},
   "source": [
    "__Objective:__\n",
    "- List popular languages for Data Science\n",
    "- List open source tools for Data Science\n",
    "- Practice the creation of markdown cells                        "
   ]
  },
  {
   "cell_type": "markdown",
   "id": "ba86cd9c-cbc8-4c33-9695-a7377052da1e",
   "metadata": {},
   "source": [
    "Some of the popular languages that Data Scientists use are:\n",
    "- Python\n",
    "- R\n",
    "- SQL"
   ]
  },
  {
   "cell_type": "markdown",
   "id": "be356b07-15d8-46d6-b35a-52b13e2f816e",
   "metadata": {},
   "source": [
    "Some of the commonly used libraries used by Data Scientists include:\n",
    "1. Pandas\n",
    "2. Numpy\n",
    "3. Scikit-learn"
   ]
  },
  {
   "cell_type": "markdown",
   "id": "f24e1f41-905e-4061-bedf-e4e97db51def",
   "metadata": {},
   "source": [
    "| Data Science Tools |\n",
    "|--------------------|\n",
    "| Python |\n",
    "| R |\n",
    "| Hadoop |"
   ]
  },
  {
   "cell_type": "markdown",
   "id": "36359022-6cc7-496b-91f5-d8cefe47e2ec",
   "metadata": {},
   "source": [
    "### Below are a few examples of evaluating arithmetic expressions in Python."
   ]
  },
  {
   "cell_type": "markdown",
   "id": "3e5c44b3-46ec-429d-9a46-816770368808",
   "metadata": {},
   "source": [
    " This a simple arithmetic expression to mutiply then add integers."
   ]
  },
  {
   "cell_type": "code",
   "execution_count": 5,
   "id": "0e8000b8-e5cf-403d-a151-6a92af740622",
   "metadata": {},
   "outputs": [
    {
     "data": {
      "text/plain": [
       "17"
      ]
     },
     "execution_count": 5,
     "metadata": {},
     "output_type": "execute_result"
    }
   ],
   "source": [
    "(3*4)+5"
   ]
  },
  {
   "cell_type": "markdown",
   "id": "8fedf920-5e90-4b4e-8f46-f1600b7c9c27",
   "metadata": {},
   "source": [
    "This will convert 200 minutes to hours by diving by 60."
   ]
  },
  {
   "cell_type": "code",
   "execution_count": 6,
   "id": "2523f201-77e8-4d44-a8a2-bac1bb07ff20",
   "metadata": {},
   "outputs": [
    {
     "data": {
      "text/plain": [
       "3.3333333333333335"
      ]
     },
     "execution_count": 6,
     "metadata": {},
     "output_type": "execute_result"
    }
   ],
   "source": [
    "200/60"
   ]
  },
  {
   "cell_type": "markdown",
   "id": "513fa5a0-4afd-404b-80e2-099251b34140",
   "metadata": {},
   "source": [
    "## Author\n",
    "Zsuzsanna Tajti"
   ]
  },
  {
   "cell_type": "code",
   "execution_count": null,
   "id": "a753768c-9356-4127-9c20-ac0a8512b3b3",
   "metadata": {},
   "outputs": [],
   "source": []
  }
 ],
 "metadata": {
  "kernelspec": {
   "display_name": "Python 3 (ipykernel)",
   "language": "python",
   "name": "python3"
  },
  "language_info": {
   "codemirror_mode": {
    "name": "ipython",
    "version": 3
   },
   "file_extension": ".py",
   "mimetype": "text/x-python",
   "name": "python",
   "nbconvert_exporter": "python",
   "pygments_lexer": "ipython3",
   "version": "3.12.8"
  }
 },
 "nbformat": 4,
 "nbformat_minor": 5
}
